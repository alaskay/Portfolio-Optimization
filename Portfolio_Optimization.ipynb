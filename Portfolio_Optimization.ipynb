{
  "nbformat": 4,
  "nbformat_minor": 0,
  "metadata": {
    "colab": {
      "name": "Portfolio Optimization.ipynb",
      "provenance": []
    },
    "kernelspec": {
      "name": "python3",
      "display_name": "Python 3"
    }
  },
  "cells": [
    {
      "cell_type": "code",
      "metadata": {
        "id": "LwIJAkgRfXGg"
      },
      "source": [
        "from pandas_datareader import data as web\r\n",
        "import pandas as pd\r\n",
        "import numpy as np\r\n",
        "from datetime import datetime\r\n",
        "import matplotlib.pyplot as plt\r\n",
        "plt.style.use('fivethirtyeight')"
      ],
      "execution_count": 1,
      "outputs": []
    },
    {
      "cell_type": "code",
      "metadata": {
        "id": "pJJCBMs-gxBi"
      },
      "source": [
        "#Get the stock symbols/stickers in the portfolio\r\n",
        "#FAANG \r\n",
        "assets = ['FB','AMZN', 'AAPL', 'NFLX', 'GOOG']"
      ],
      "execution_count": 2,
      "outputs": []
    },
    {
      "cell_type": "code",
      "metadata": {
        "id": "KVetJssVhOBl"
      },
      "source": [
        "# Assign Weights to the stocks \r\n",
        "weights = np.array([0.2, 0.2, 0.2, 0.2, 0.2])"
      ],
      "execution_count": 3,
      "outputs": []
    },
    {
      "cell_type": "code",
      "metadata": {
        "id": "s_6mevRvh0BT"
      },
      "source": [
        "# Get the stock/portfolio starting date\r\n",
        "StockStartDate = '2013-01-01'"
      ],
      "execution_count": 4,
      "outputs": []
    },
    {
      "cell_type": "code",
      "metadata": {
        "colab": {
          "base_uri": "https://localhost:8080/",
          "height": 35
        },
        "id": "sC97YsiZiCrm",
        "outputId": "aed3ca8e-9707-48ca-ef83-fe0dde5177e9"
      },
      "source": [
        "# Get the stocks ending date (today)\r\n",
        "today = datetime.today().strftime('%Y-%m-%d')\r\n",
        "today"
      ],
      "execution_count": 5,
      "outputs": [
        {
          "output_type": "execute_result",
          "data": {
            "application/vnd.google.colaboratory.intrinsic+json": {
              "type": "string"
            },
            "text/plain": [
              "'2021-02-07'"
            ]
          },
          "metadata": {
            "tags": []
          },
          "execution_count": 5
        }
      ]
    },
    {
      "cell_type": "code",
      "metadata": {
        "id": "MTDkQjuyieTK"
      },
      "source": [
        "# Create a dataframe to store the adjusted close price of the stocks\r\n",
        "df = pd.DataFrame()"
      ],
      "execution_count": 12,
      "outputs": []
    },
    {
      "cell_type": "code",
      "metadata": {
        "id": "tvqzJk0yjA__"
      },
      "source": [
        "# Store the adjusted close price of the stock into the df\r\n",
        "for stock in assets:\r\n",
        " df[stock] = web.DataReader(stock, data_source='yahoo', start = StockStartDate, end = today)['Adj Close']"
      ],
      "execution_count": 14,
      "outputs": []
    },
    {
      "cell_type": "code",
      "metadata": {
        "colab": {
          "base_uri": "https://localhost:8080/",
          "height": 450
        },
        "id": "ESnApucajmwz",
        "outputId": "689fd728-857e-4a44-b8e8-8d22bc47ef0e"
      },
      "source": [
        "# Show the df\r\n",
        "df"
      ],
      "execution_count": 15,
      "outputs": [
        {
          "output_type": "execute_result",
          "data": {
            "text/html": [
              "<div>\n",
              "<style scoped>\n",
              "    .dataframe tbody tr th:only-of-type {\n",
              "        vertical-align: middle;\n",
              "    }\n",
              "\n",
              "    .dataframe tbody tr th {\n",
              "        vertical-align: top;\n",
              "    }\n",
              "\n",
              "    .dataframe thead th {\n",
              "        text-align: right;\n",
              "    }\n",
              "</style>\n",
              "<table border=\"1\" class=\"dataframe\">\n",
              "  <thead>\n",
              "    <tr style=\"text-align: right;\">\n",
              "      <th></th>\n",
              "      <th>FB</th>\n",
              "      <th>AMZN</th>\n",
              "      <th>AAPL</th>\n",
              "      <th>NFLX</th>\n",
              "      <th>GOOG</th>\n",
              "    </tr>\n",
              "    <tr>\n",
              "      <th>Date</th>\n",
              "      <th></th>\n",
              "      <th></th>\n",
              "      <th></th>\n",
              "      <th></th>\n",
              "      <th></th>\n",
              "    </tr>\n",
              "  </thead>\n",
              "  <tbody>\n",
              "    <tr>\n",
              "      <th>2013-01-02</th>\n",
              "      <td>28.000000</td>\n",
              "      <td>257.309998</td>\n",
              "      <td>17.039789</td>\n",
              "      <td>13.144286</td>\n",
              "      <td>360.274597</td>\n",
              "    </tr>\n",
              "    <tr>\n",
              "      <th>2013-01-03</th>\n",
              "      <td>27.770000</td>\n",
              "      <td>258.480011</td>\n",
              "      <td>16.824715</td>\n",
              "      <td>13.798571</td>\n",
              "      <td>360.483826</td>\n",
              "    </tr>\n",
              "    <tr>\n",
              "      <th>2013-01-04</th>\n",
              "      <td>28.760000</td>\n",
              "      <td>259.149994</td>\n",
              "      <td>16.356062</td>\n",
              "      <td>13.711429</td>\n",
              "      <td>367.607117</td>\n",
              "    </tr>\n",
              "    <tr>\n",
              "      <th>2013-01-07</th>\n",
              "      <td>29.420000</td>\n",
              "      <td>268.459991</td>\n",
              "      <td>16.259851</td>\n",
              "      <td>14.171429</td>\n",
              "      <td>366.003143</td>\n",
              "    </tr>\n",
              "    <tr>\n",
              "      <th>2013-01-08</th>\n",
              "      <td>29.059999</td>\n",
              "      <td>266.380005</td>\n",
              "      <td>16.303608</td>\n",
              "      <td>13.880000</td>\n",
              "      <td>365.280823</td>\n",
              "    </tr>\n",
              "    <tr>\n",
              "      <th>...</th>\n",
              "      <td>...</td>\n",
              "      <td>...</td>\n",
              "      <td>...</td>\n",
              "      <td>...</td>\n",
              "      <td>...</td>\n",
              "    </tr>\n",
              "    <tr>\n",
              "      <th>2021-02-01</th>\n",
              "      <td>262.010010</td>\n",
              "      <td>3342.879883</td>\n",
              "      <td>133.939850</td>\n",
              "      <td>539.039978</td>\n",
              "      <td>1901.349976</td>\n",
              "    </tr>\n",
              "    <tr>\n",
              "      <th>2021-02-02</th>\n",
              "      <td>267.079987</td>\n",
              "      <td>3380.000000</td>\n",
              "      <td>134.788589</td>\n",
              "      <td>548.159973</td>\n",
              "      <td>1927.510010</td>\n",
              "    </tr>\n",
              "    <tr>\n",
              "      <th>2021-02-03</th>\n",
              "      <td>266.649994</td>\n",
              "      <td>3312.530029</td>\n",
              "      <td>133.740158</td>\n",
              "      <td>539.450012</td>\n",
              "      <td>2070.070068</td>\n",
              "    </tr>\n",
              "    <tr>\n",
              "      <th>2021-02-04</th>\n",
              "      <td>266.489990</td>\n",
              "      <td>3331.000000</td>\n",
              "      <td>137.184998</td>\n",
              "      <td>552.159973</td>\n",
              "      <td>2062.370117</td>\n",
              "    </tr>\n",
              "    <tr>\n",
              "      <th>2021-02-05</th>\n",
              "      <td>268.100006</td>\n",
              "      <td>3352.149902</td>\n",
              "      <td>136.759995</td>\n",
              "      <td>550.789978</td>\n",
              "      <td>2098.000000</td>\n",
              "    </tr>\n",
              "  </tbody>\n",
              "</table>\n",
              "<p>2039 rows × 5 columns</p>\n",
              "</div>"
            ],
            "text/plain": [
              "                    FB         AMZN        AAPL        NFLX         GOOG\n",
              "Date                                                                    \n",
              "2013-01-02   28.000000   257.309998   17.039789   13.144286   360.274597\n",
              "2013-01-03   27.770000   258.480011   16.824715   13.798571   360.483826\n",
              "2013-01-04   28.760000   259.149994   16.356062   13.711429   367.607117\n",
              "2013-01-07   29.420000   268.459991   16.259851   14.171429   366.003143\n",
              "2013-01-08   29.059999   266.380005   16.303608   13.880000   365.280823\n",
              "...                ...          ...         ...         ...          ...\n",
              "2021-02-01  262.010010  3342.879883  133.939850  539.039978  1901.349976\n",
              "2021-02-02  267.079987  3380.000000  134.788589  548.159973  1927.510010\n",
              "2021-02-03  266.649994  3312.530029  133.740158  539.450012  2070.070068\n",
              "2021-02-04  266.489990  3331.000000  137.184998  552.159973  2062.370117\n",
              "2021-02-05  268.100006  3352.149902  136.759995  550.789978  2098.000000\n",
              "\n",
              "[2039 rows x 5 columns]"
            ]
          },
          "metadata": {
            "tags": []
          },
          "execution_count": 15
        }
      ]
    },
    {
      "cell_type": "code",
      "metadata": {
        "colab": {
          "base_uri": "https://localhost:8080/",
          "height": 298
        },
        "id": "b0skOdnejxdK",
        "outputId": "000ae484-c918-4a31-9314-d5cdf8ec98dd"
      },
      "source": [
        "#Visualize the stock/portfolio\r\n",
        "title = 'Portfolio Adj. Close Price History'\r\n",
        "\r\n",
        "#Get the stocks\r\n",
        "my_stocks = df\r\n",
        "\r\n",
        "#Create and plot the graph\r\n",
        "for c in my_stocks.columns.values:\r\n",
        "  plt.plot(my_stocks[c], label = c)\r\n",
        "\r\n",
        "plt.title(title)\r\n",
        "plt.xlabel('Date', fontsize=16)\r\n",
        "plt.ylabel('Adj. Close Price USD ($)', fontsize=16)\r\n",
        "plt.legend(my_stocks.columns.values, loc='upper left')\r\n",
        "plt.show()"
      ],
      "execution_count": 18,
      "outputs": [
        {
          "output_type": "display_data",
          "data": {
            "image/png": "[encoded data removed]",
            "text/plain": [
              "<Figure size 432x288 with 1 Axes>"
            ]
          },
          "metadata": {
            "tags": [],
            "needs_background": "light"
          }
        }
      ]
    },
    {
      "cell_type": "code",
      "metadata": {
        "colab": {
          "base_uri": "https://localhost:8080/",
          "height": 450
        },
        "id": "1vk1Z782koFF",
        "outputId": "4a7d9c97-17cb-4f91-c27a-e31e0a6a2cdd"
      },
      "source": [
        "# Show the daily simple return\r\n",
        "returns = df.pct_change()\r\n",
        "returns"
      ],
      "execution_count": 19,
      "outputs": [
        {
          "output_type": "execute_result",
          "data": {
            "text/html": [
              "<div>\n",
              "<style scoped>\n",
              "    .dataframe tbody tr th:only-of-type {\n",
              "        vertical-align: middle;\n",
              "    }\n",
              "\n",
              "    .dataframe tbody tr th {\n",
              "        vertical-align: top;\n",
              "    }\n",
              "\n",
              "    .dataframe thead th {\n",
              "        text-align: right;\n",
              "    }\n",
              "</style>\n",
              "<table border=\"1\" class=\"dataframe\">\n",
              "  <thead>\n",
              "    <tr style=\"text-align: right;\">\n",
              "      <th></th>\n",
              "      <th>FB</th>\n",
              "      <th>AMZN</th>\n",
              "      <th>AAPL</th>\n",
              "      <th>NFLX</th>\n",
              "      <th>GOOG</th>\n",
              "    </tr>\n",
              "    <tr>\n",
              "      <th>Date</th>\n",
              "      <th></th>\n",
              "      <th></th>\n",
              "      <th></th>\n",
              "      <th></th>\n",
              "      <th></th>\n",
              "    </tr>\n",
              "  </thead>\n",
              "  <tbody>\n",
              "    <tr>\n",
              "      <th>2013-01-02</th>\n",
              "      <td>NaN</td>\n",
              "      <td>NaN</td>\n",
              "      <td>NaN</td>\n",
              "      <td>NaN</td>\n",
              "      <td>NaN</td>\n",
              "    </tr>\n",
              "    <tr>\n",
              "      <th>2013-01-03</th>\n",
              "      <td>-0.008214</td>\n",
              "      <td>0.004547</td>\n",
              "      <td>-0.012622</td>\n",
              "      <td>0.049777</td>\n",
              "      <td>0.000581</td>\n",
              "    </tr>\n",
              "    <tr>\n",
              "      <th>2013-01-04</th>\n",
              "      <td>0.035650</td>\n",
              "      <td>0.002592</td>\n",
              "      <td>-0.027855</td>\n",
              "      <td>-0.006315</td>\n",
              "      <td>0.019760</td>\n",
              "    </tr>\n",
              "    <tr>\n",
              "      <th>2013-01-07</th>\n",
              "      <td>0.022949</td>\n",
              "      <td>0.035925</td>\n",
              "      <td>-0.005882</td>\n",
              "      <td>0.033549</td>\n",
              "      <td>-0.004363</td>\n",
              "    </tr>\n",
              "    <tr>\n",
              "      <th>2013-01-08</th>\n",
              "      <td>-0.012237</td>\n",
              "      <td>-0.007748</td>\n",
              "      <td>0.002691</td>\n",
              "      <td>-0.020565</td>\n",
              "      <td>-0.001974</td>\n",
              "    </tr>\n",
              "    <tr>\n",
              "      <th>...</th>\n",
              "      <td>...</td>\n",
              "      <td>...</td>\n",
              "      <td>...</td>\n",
              "      <td>...</td>\n",
              "      <td>...</td>\n",
              "    </tr>\n",
              "    <tr>\n",
              "      <th>2021-02-01</th>\n",
              "      <td>0.014245</td>\n",
              "      <td>0.042630</td>\n",
              "      <td>0.016520</td>\n",
              "      <td>0.012491</td>\n",
              "      <td>0.035740</td>\n",
              "    </tr>\n",
              "    <tr>\n",
              "      <th>2021-02-02</th>\n",
              "      <td>0.019350</td>\n",
              "      <td>0.011104</td>\n",
              "      <td>0.006337</td>\n",
              "      <td>0.016919</td>\n",
              "      <td>0.013759</td>\n",
              "    </tr>\n",
              "    <tr>\n",
              "      <th>2021-02-03</th>\n",
              "      <td>-0.001610</td>\n",
              "      <td>-0.019962</td>\n",
              "      <td>-0.007778</td>\n",
              "      <td>-0.015889</td>\n",
              "      <td>0.073961</td>\n",
              "    </tr>\n",
              "    <tr>\n",
              "      <th>2021-02-04</th>\n",
              "      <td>-0.000600</td>\n",
              "      <td>0.005576</td>\n",
              "      <td>0.025758</td>\n",
              "      <td>0.023561</td>\n",
              "      <td>-0.003720</td>\n",
              "    </tr>\n",
              "    <tr>\n",
              "      <th>2021-02-05</th>\n",
              "      <td>0.006042</td>\n",
              "      <td>0.006349</td>\n",
              "      <td>-0.003098</td>\n",
              "      <td>-0.002481</td>\n",
              "      <td>0.017276</td>\n",
              "    </tr>\n",
              "  </tbody>\n",
              "</table>\n",
              "<p>2039 rows × 5 columns</p>\n",
              "</div>"
            ],
            "text/plain": [
              "                  FB      AMZN      AAPL      NFLX      GOOG\n",
              "Date                                                        \n",
              "2013-01-02       NaN       NaN       NaN       NaN       NaN\n",
              "2013-01-03 -0.008214  0.004547 -0.012622  0.049777  0.000581\n",
              "2013-01-04  0.035650  0.002592 -0.027855 -0.006315  0.019760\n",
              "2013-01-07  0.022949  0.035925 -0.005882  0.033549 -0.004363\n",
              "2013-01-08 -0.012237 -0.007748  0.002691 -0.020565 -0.001974\n",
              "...              ...       ...       ...       ...       ...\n",
              "2021-02-01  0.014245  0.042630  0.016520  0.012491  0.035740\n",
              "2021-02-02  0.019350  0.011104  0.006337  0.016919  0.013759\n",
              "2021-02-03 -0.001610 -0.019962 -0.007778 -0.015889  0.073961\n",
              "2021-02-04 -0.000600  0.005576  0.025758  0.023561 -0.003720\n",
              "2021-02-05  0.006042  0.006349 -0.003098 -0.002481  0.017276\n",
              "\n",
              "[2039 rows x 5 columns]"
            ]
          },
          "metadata": {
            "tags": []
          },
          "execution_count": 19
        }
      ]
    },
    {
      "cell_type": "code",
      "metadata": {
        "colab": {
          "base_uri": "https://localhost:8080/",
          "height": 204
        },
        "id": "yfW6fi15lLIz",
        "outputId": "15fa7cc4-d3b2-408c-8672-32d27033fb6e"
      },
      "source": [
        "#Create and show the annualized covariance matrix\r\n",
        "cov_matrix_annual = returns.cov() * 252\r\n",
        "cov_matrix_annual"
      ],
      "execution_count": 21,
      "outputs": [
        {
          "output_type": "execute_result",
          "data": {
            "text/html": [
              "<div>\n",
              "<style scoped>\n",
              "    .dataframe tbody tr th:only-of-type {\n",
              "        vertical-align: middle;\n",
              "    }\n",
              "\n",
              "    .dataframe tbody tr th {\n",
              "        vertical-align: top;\n",
              "    }\n",
              "\n",
              "    .dataframe thead th {\n",
              "        text-align: right;\n",
              "    }\n",
              "</style>\n",
              "<table border=\"1\" class=\"dataframe\">\n",
              "  <thead>\n",
              "    <tr style=\"text-align: right;\">\n",
              "      <th></th>\n",
              "      <th>FB</th>\n",
              "      <th>AMZN</th>\n",
              "      <th>AAPL</th>\n",
              "      <th>NFLX</th>\n",
              "      <th>GOOG</th>\n",
              "    </tr>\n",
              "  </thead>\n",
              "  <tbody>\n",
              "    <tr>\n",
              "      <th>FB</th>\n",
              "      <td>0.118707</td>\n",
              "      <td>0.055197</td>\n",
              "      <td>0.045220</td>\n",
              "      <td>0.057194</td>\n",
              "      <td>0.050682</td>\n",
              "    </tr>\n",
              "    <tr>\n",
              "      <th>AMZN</th>\n",
              "      <td>0.055197</td>\n",
              "      <td>0.094000</td>\n",
              "      <td>0.040152</td>\n",
              "      <td>0.064296</td>\n",
              "      <td>0.047880</td>\n",
              "    </tr>\n",
              "    <tr>\n",
              "      <th>AAPL</th>\n",
              "      <td>0.045220</td>\n",
              "      <td>0.040152</td>\n",
              "      <td>0.082215</td>\n",
              "      <td>0.035733</td>\n",
              "      <td>0.038662</td>\n",
              "    </tr>\n",
              "    <tr>\n",
              "      <th>NFLX</th>\n",
              "      <td>0.057194</td>\n",
              "      <td>0.064296</td>\n",
              "      <td>0.035733</td>\n",
              "      <td>0.213406</td>\n",
              "      <td>0.049696</td>\n",
              "    </tr>\n",
              "    <tr>\n",
              "      <th>GOOG</th>\n",
              "      <td>0.050682</td>\n",
              "      <td>0.047880</td>\n",
              "      <td>0.038662</td>\n",
              "      <td>0.049696</td>\n",
              "      <td>0.067089</td>\n",
              "    </tr>\n",
              "  </tbody>\n",
              "</table>\n",
              "</div>"
            ],
            "text/plain": [
              "            FB      AMZN      AAPL      NFLX      GOOG\n",
              "FB    0.118707  0.055197  0.045220  0.057194  0.050682\n",
              "AMZN  0.055197  0.094000  0.040152  0.064296  0.047880\n",
              "AAPL  0.045220  0.040152  0.082215  0.035733  0.038662\n",
              "NFLX  0.057194  0.064296  0.035733  0.213406  0.049696\n",
              "GOOG  0.050682  0.047880  0.038662  0.049696  0.067089"
            ]
          },
          "metadata": {
            "tags": []
          },
          "execution_count": 21
        }
      ]
    },
    {
      "cell_type": "code",
      "metadata": {
        "colab": {
          "base_uri": "https://localhost:8080/"
        },
        "id": "UFkGsBMNmumW",
        "outputId": "52fb2920-2734-4dd8-fd3f-71c46fdf3486"
      },
      "source": [
        " #Calculate the portfolio variance\r\n",
        " port_variance = np.dot(weights.T, np.dot(cov_matrix_annual, weights))\r\n",
        " port_variance"
      ],
      "execution_count": 22,
      "outputs": [
        {
          "output_type": "execute_result",
          "data": {
            "text/plain": [
              "0.06179377875600233"
            ]
          },
          "metadata": {
            "tags": []
          },
          "execution_count": 22
        }
      ]
    },
    {
      "cell_type": "code",
      "metadata": {
        "colab": {
          "base_uri": "https://localhost:8080/"
        },
        "id": "J-xGaQZ4m8Oc",
        "outputId": "02e005ae-db9f-495a-b451-0a5363a81181"
      },
      "source": [
        "#Calculate the portfolio volatility aka standard deviation\r\n",
        "port_volatility = np.sqrt(port_variance)\r\n",
        "port_volatility"
      ],
      "execution_count": 23,
      "outputs": [
        {
          "output_type": "execute_result",
          "data": {
            "text/plain": [
              "0.24858354482145903"
            ]
          },
          "metadata": {
            "tags": []
          },
          "execution_count": 23
        }
      ]
    },
    {
      "cell_type": "code",
      "metadata": {
        "colab": {
          "base_uri": "https://localhost:8080/"
        },
        "id": "FTprgE9enla3",
        "outputId": "59693a30-3d08-478c-b10b-2c06333d4486"
      },
      "source": [
        "#Calculate the annual portfolio return\r\n",
        "portfolioSimpleAnnualReturn = np.sum(returns.mean() * weights) * 252\r\n",
        "portfolioSimpleAnnualReturn"
      ],
      "execution_count": 24,
      "outputs": [
        {
          "output_type": "execute_result",
          "data": {
            "text/plain": [
              "0.3635648463114695"
            ]
          },
          "metadata": {
            "tags": []
          },
          "execution_count": 24
        }
      ]
    },
    {
      "cell_type": "code",
      "metadata": {
        "colab": {
          "base_uri": "https://localhost:8080/"
        },
        "id": "EMfj-xcmoAwI",
        "outputId": "5f9dc9ff-833d-4bfb-96d2-e5bc05f4026b"
      },
      "source": [
        "#Show the expected annual return, volatility(risk) and variance\r\n",
        "\r\n",
        "percent_var = str(round(port_variance, 2) * 100)+ '%'\r\n",
        "percent_vols = str(round(port_volatility, 2) * 100)+ '%'\r\n",
        "percent_ret = str(round(portfolioSimpleAnnualReturn, 2) * 100)+ '%'\r\n",
        "\r\n",
        "print('Expected annual return: '+ percent_ret)\r\n",
        "print('Annual volatility/risk: '+ percent_vols)\r\n",
        "print('Annual variance: '+ percent_var)"
      ],
      "execution_count": 25,
      "outputs": [
        {
          "output_type": "stream",
          "text": [
            "Expected annual return: 36.0%\n",
            "Annual volatility/risk: 25.0%\n",
            "Annual variance: 6.0%\n"
          ],
          "name": "stdout"
        }
      ]
    },
    {
      "cell_type": "code",
      "metadata": {
        "colab": {
          "base_uri": "https://localhost:8080/"
        },
        "id": "AVt3KXgCpDKq",
        "outputId": "e9f5528d-282e-44ec-d4d3-2cb75f7e058c"
      },
      "source": [
        "pip install PyPortfolioOpt"
      ],
      "execution_count": 26,
      "outputs": [
        {
          "output_type": "stream",
          "text": [
            "Collecting PyPortfolioOpt\n",
            "\u001b[?25l  Downloading https://files.pythonhosted.org/packages/cc/db/4a17dce7950b403cbc8c47b60b336b740689f006846b2e5e78195e12fe2d/PyPortfolioOpt-1.3.1-py3-none-any.whl (53kB)\n",
            "\r\u001b[K     |██████▏                         | 10kB 9.1MB/s eta 0:00:01\r\u001b[K     |████████████▍                   | 20kB 13.0MB/s eta 0:00:01\r\u001b[K     |██████████████████▌             | 30kB 16.6MB/s eta 0:00:01\r\u001b[K     |████████████████████████▊       | 40kB 11.5MB/s eta 0:00:01\r\u001b[K     |███████████████████████████████ | 51kB 5.2MB/s eta 0:00:01\r\u001b[K     |████████████████████████████████| 61kB 2.9MB/s \n",
            "\u001b[?25hRequirement already satisfied: cvxpy<2.0,>=1.0 in /usr/local/lib/python3.6/dist-packages (from PyPortfolioOpt) (1.0.31)\n",
            "Requirement already satisfied: numpy<2.0,>=1.12 in /usr/local/lib/python3.6/dist-packages (from PyPortfolioOpt) (1.19.5)\n",
            "Requirement already satisfied: cvxopt!=1.2.5.post1,<2.0,>=1.2 in /usr/local/lib/python3.6/dist-packages (from PyPortfolioOpt) (1.2.5)\n",
            "Requirement already satisfied: pandas>=0.19 in /usr/local/lib/python3.6/dist-packages (from PyPortfolioOpt) (1.1.5)\n",
            "Requirement already satisfied: scipy<2.0,>=1.3 in /usr/local/lib/python3.6/dist-packages (from PyPortfolioOpt) (1.4.1)\n",
            "Requirement already satisfied: osqp>=0.4.1 in /usr/local/lib/python3.6/dist-packages (from cvxpy<2.0,>=1.0->PyPortfolioOpt) (0.6.2.post0)\n",
            "Requirement already satisfied: ecos>=2 in /usr/local/lib/python3.6/dist-packages (from cvxpy<2.0,>=1.0->PyPortfolioOpt) (2.0.7.post1)\n",
            "Requirement already satisfied: multiprocess in /usr/local/lib/python3.6/dist-packages (from cvxpy<2.0,>=1.0->PyPortfolioOpt) (0.70.11.1)\n",
            "Requirement already satisfied: scs>=1.1.3 in /usr/local/lib/python3.6/dist-packages (from cvxpy<2.0,>=1.0->PyPortfolioOpt) (2.1.2)\n",
            "Requirement already satisfied: pytz>=2017.2 in /usr/local/lib/python3.6/dist-packages (from pandas>=0.19->PyPortfolioOpt) (2018.9)\n",
            "Requirement already satisfied: python-dateutil>=2.7.3 in /usr/local/lib/python3.6/dist-packages (from pandas>=0.19->PyPortfolioOpt) (2.8.1)\n",
            "Requirement already satisfied: qdldl in /usr/local/lib/python3.6/dist-packages (from osqp>=0.4.1->cvxpy<2.0,>=1.0->PyPortfolioOpt) (0.1.5.post0)\n",
            "Requirement already satisfied: dill>=0.3.3 in /usr/local/lib/python3.6/dist-packages (from multiprocess->cvxpy<2.0,>=1.0->PyPortfolioOpt) (0.3.3)\n",
            "Requirement already satisfied: six>=1.5 in /usr/local/lib/python3.6/dist-packages (from python-dateutil>=2.7.3->pandas>=0.19->PyPortfolioOpt) (1.15.0)\n",
            "Installing collected packages: PyPortfolioOpt\n",
            "Successfully installed PyPortfolioOpt-1.3.1\n"
          ],
          "name": "stdout"
        }
      ]
    },
    {
      "cell_type": "code",
      "metadata": {
        "id": "13jvtbhNpTz5"
      },
      "source": [
        "from pypfopt.efficient_frontier import EfficientFrontier\r\n",
        "from pypfopt import risk_models\r\n",
        "from pypfopt import expected_returns"
      ],
      "execution_count": 27,
      "outputs": []
    },
    {
      "cell_type": "code",
      "metadata": {
        "colab": {
          "base_uri": "https://localhost:8080/"
        },
        "id": "m1PGL7HZpvwA",
        "outputId": "7c9b599f-79f1-4377-b80c-df7c59b2b718"
      },
      "source": [
        "#Portfolio Optimization\r\n",
        "\r\n",
        "#Calculate the expected returns and the annualized sample covariance matrix of asset returns\r\n",
        "mu = expected_returns.mean_historical_return(df)\r\n",
        "S = risk_models.sample_cov(df)\r\n",
        "\r\n",
        "#Optimize for max sharpe ratio\r\n",
        "ef = EfficientFrontier(mu, S)\r\n",
        "weights = ef.max_sharpe()\r\n",
        "cleaned_weights = ef.clean_weights()\r\n",
        "print(cleaned_weights)\r\n",
        "ef.portfolio_performance(verbose = True)"
      ],
      "execution_count": 28,
      "outputs": [
        {
          "output_type": "stream",
          "text": [
            "OrderedDict([('FB', 0.05588), ('AMZN', 0.31482), ('AAPL', 0.29101), ('NFLX', 0.33829), ('GOOG', 0.0)])\n",
            "Expected annual return: 42.0%\n",
            "Annual volatility: 27.3%\n",
            "Sharpe Ratio: 1.46\n"
          ],
          "name": "stdout"
        },
        {
          "output_type": "execute_result",
          "data": {
            "text/plain": [
              "(0.4196895321701384, 0.2733763895188571, 1.462048470512002)"
            ]
          },
          "metadata": {
            "tags": []
          },
          "execution_count": 28
        }
      ]
    },
    {
      "cell_type": "code",
      "metadata": {
        "colab": {
          "base_uri": "https://localhost:8080/"
        },
        "id": "hlaRr8kVrTec",
        "outputId": "4db27e95-eaee-4de5-d9b3-ec01747d3526"
      },
      "source": [
        "0.05588 + 0.31482 + 0.29101 + 0.33829"
      ],
      "execution_count": 29,
      "outputs": [
        {
          "output_type": "execute_result",
          "data": {
            "text/plain": [
              "1.0"
            ]
          },
          "metadata": {
            "tags": []
          },
          "execution_count": 29
        }
      ]
    },
    {
      "cell_type": "code",
      "metadata": {
        "colab": {
          "base_uri": "https://localhost:8080/"
        },
        "id": "h1vGaA03rk4a",
        "outputId": "4590ebb1-f04c-4c4a-c9ca-09ffbd81f783"
      },
      "source": [
        "#Get the discrete allocation of each share per stock\r\n",
        "from pypfopt.discrete_allocation import DiscreteAllocation, get_latest_prices\r\n",
        "\r\n",
        "latest_prices = get_latest_prices(df)\r\n",
        "weights = cleaned_weights\r\n",
        "da = DiscreteAllocation(weights, latest_prices, total_portfolio_value = 15000)\r\n",
        "\r\n",
        "allocation , leftover = da.lp_portfolio()\r\n",
        "print('Discrete allocation: ', allocation)\r\n",
        "print('Funds remaining: ${:.2f}'.format(leftover))"
      ],
      "execution_count": 37,
      "outputs": [
        {
          "output_type": "stream",
          "text": [
            "Discrete allocation:  {'FB': 4, 'AMZN': 1, 'AAPL': 32, 'NFLX': 10}\n",
            "Funds remaining: $691.23\n"
          ],
          "name": "stdout"
        }
      ]
    }
  ]
}